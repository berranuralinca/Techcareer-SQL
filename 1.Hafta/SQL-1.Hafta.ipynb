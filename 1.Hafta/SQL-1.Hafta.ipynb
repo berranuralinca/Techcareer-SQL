{
 "cells": [
  {
   "cell_type": "markdown",
   "id": "80161b9b-6466-417f-80de-de6c00d3703b",
   "metadata": {},
   "source": [
    "<h1>SQL Veri Tabanı ve Temel Komutlar</h1>\n",
    "\n",
    "SQL (Structured Query Language), veritabanı yönetiminde kullanılan standart bir dildir. Veri tabanı oluşturma, tablo tanımlama, veri ekleme, güncelleme, silme ve sorgulama işlemleri SQL ile yapılır."
   ]
  },
  {
   "cell_type": "raw",
   "id": "dba28f65-15a9-428f-9bc1-3621bdbe3432",
   "metadata": {},
   "source": [
    "Veritabanı Oluşturma\n",
    "\n",
    "CREATE DATABASE PERSONEL;   komutu yeni bir veritabanı oluşturmak için kullanılır."
   ]
  },
  {
   "cell_type": "raw",
   "id": "d5c8bda1-bcc9-40b8-9998-cce127ff8aab",
   "metadata": {},
   "source": [
    "Tablo Oluşturma\n",
    "\n",
    "CREATE TABLE KULLANICILAR (\n",
    "  id INT IDENTITY(1,1) PRIMARY KEY,  \n",
    "  ad NVARCHAR(50),  \n",
    "  soyad NVARCHAR(50),  \n",
    "  yas INT\n",
    ");\n",
    "\n",
    "CREATE TABLE komutu ile veritabanında yeni bir tablo tanımlanır.\n",
    "id: INT tipinde, otomatik artan (IDENTITY) ve birincil anahtar (PRIMARY KEY) özelliğine sahip bir sütundur.\n",
    "ad, soyad: NVARCHAR(50) tipinde, yani en fazla 50 karakter uzunluğunda metin alanıdır.\n",
    "yas: INT tipinde bir sayı alanıdır."
   ]
  },
  {
   "cell_type": "raw",
   "id": "c71be9a6-de69-46be-bca6-5328abe35152",
   "metadata": {},
   "source": [
    "Veri Listeleme\n",
    "\n",
    "SELECT * FROM KULLANICILAR;\n",
    "SELECT * tablodaki tüm sütunları getirir.\n",
    "\n",
    "SELECT ad FROM KULLANICILAR;\n",
    "Sadece ad sütunundaki veriler listelenir.\n",
    "\n",
    "SELECT ad, soyad FROM KULLANICILAR;\n",
    "Hem ad hem de soyad sütunları listelenir."
   ]
  },
  {
   "cell_type": "raw",
   "id": "b31b7112-7d8e-42bf-8698-a086ebd89443",
   "metadata": {},
   "source": [
    "Veri Ekleme\n",
    "\n",
    "INSERT INTO KULLANICILAR (ad, soyad, yas) \n",
    "VALUES ('kemal', 'tas', 36);\n",
    "\n",
    "INSERT INTO komutu tabloya yeni veri ekler.\n",
    "Burada Kemal Taş isimli, 36 yaşında bir kullanıcı eklenmiştir."
   ]
  },
  {
   "cell_type": "raw",
   "id": "b894ac3a-8772-434c-8b72-a81df6bf820e",
   "metadata": {},
   "source": [
    "Veri Güncelleme\n",
    "\n",
    "UPDATE KULLANICILAR\n",
    "SET yas = 25\n",
    "WHERE ad = 'ayse';\n",
    "\n",
    "UPDATE komutu tablo içindeki mevcut veriyi değiştirmek için kullanılır.\n",
    "Burada adı ayse olan kişinin yaşı 25 olarak güncellenmiştir."
   ]
  },
  {
   "cell_type": "raw",
   "id": "33f690c0-cb02-4e91-a89e-a50c503c6b8e",
   "metadata": {},
   "source": [
    "Veri Silme\n",
    "\n",
    "DELETE FROM KULLANICILAR\n",
    "WHERE id = 1;\n",
    "\n",
    "DELETE FROM komutu tablodan veri silmek için kullanılır.\n",
    "Burada id değeri 1 olan kayıt silinmiştir."
   ]
  },
  {
   "cell_type": "raw",
   "id": "72f45ac4-5652-4848-a84b-30aa240655b8",
   "metadata": {},
   "source": [
    "Tekrarlayan Verileri Engelleme\n",
    "\n",
    "SELECT DISTINCT ad\n",
    "FROM KULLANICILAR;\n",
    "\n",
    "DISTINCT ifadesi tekrar eden verileri tekilleştirir.\n",
    "Örneğin, aynı adı taşıyan birden fazla kullanıcı varsa yalnızca bir kez listelenir."
   ]
  },
  {
   "cell_type": "raw",
   "id": "88c923c6-71df-4b21-98d6-0d96fef8f91e",
   "metadata": {},
   "source": [
    "Belirli Sayıda Veri Getirme\n",
    "\n",
    "SELECT TOP 2 ad\n",
    "FROM KULLANICILAR;\n",
    "\n",
    "TOP ifadesi, belirli sayıda kayıt getirmek için kullanılır.\n",
    "Burada tablodaki ilk 2 kişinin adı listelenmektedir."
   ]
  }
 ],
 "metadata": {
  "kernelspec": {
   "display_name": "Python 3 (ipykernel)",
   "language": "python",
   "name": "python3"
  },
  "language_info": {
   "codemirror_mode": {
    "name": "ipython",
    "version": 3
   },
   "file_extension": ".py",
   "mimetype": "text/x-python",
   "name": "python",
   "nbconvert_exporter": "python",
   "pygments_lexer": "ipython3",
   "version": "3.12.4"
  }
 },
 "nbformat": 4,
 "nbformat_minor": 5
}
